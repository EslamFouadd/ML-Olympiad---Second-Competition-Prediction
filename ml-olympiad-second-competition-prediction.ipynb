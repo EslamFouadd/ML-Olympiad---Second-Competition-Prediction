{
 "cells": [
  {
   "cell_type": "code",
   "execution_count": 1,
   "id": "851aee2e",
   "metadata": {
    "execution": {
     "iopub.execute_input": "2023-03-15T07:47:24.946724Z",
     "iopub.status.busy": "2023-03-15T07:47:24.946314Z",
     "iopub.status.idle": "2023-03-15T07:47:38.353400Z",
     "shell.execute_reply": "2023-03-15T07:47:38.351583Z"
    },
    "papermill": {
     "duration": 13.422167,
     "end_time": "2023-03-15T07:47:38.356601",
     "exception": false,
     "start_time": "2023-03-15T07:47:24.934434",
     "status": "completed"
    },
    "tags": []
   },
   "outputs": [
    {
     "name": "stdout",
     "output_type": "stream",
     "text": [
      "Requirement already satisfied: pandas in /opt/conda/lib/python3.7/site-packages (1.3.5)\r\n",
      "Requirement already satisfied: numpy>=1.17.3 in /opt/conda/lib/python3.7/site-packages (from pandas) (1.21.6)\r\n",
      "Requirement already satisfied: python-dateutil>=2.7.3 in /opt/conda/lib/python3.7/site-packages (from pandas) (2.8.2)\r\n",
      "Requirement already satisfied: pytz>=2017.3 in /opt/conda/lib/python3.7/site-packages (from pandas) (2022.7.1)\r\n",
      "Requirement already satisfied: six>=1.5 in /opt/conda/lib/python3.7/site-packages (from python-dateutil>=2.7.3->pandas) (1.16.0)\r\n",
      "\u001b[33mWARNING: Running pip as the 'root' user can result in broken permissions and conflicting behaviour with the system package manager. It is recommended to use a virtual environment instead: https://pip.pypa.io/warnings/venv\u001b[0m\u001b[33m\r\n",
      "\u001b[0m"
     ]
    }
   ],
   "source": [
    "!pip install pandas --upgrade"
   ]
  },
  {
   "cell_type": "code",
   "execution_count": 2,
   "id": "64ee0691",
   "metadata": {
    "execution": {
     "iopub.execute_input": "2023-03-15T07:47:38.378137Z",
     "iopub.status.busy": "2023-03-15T07:47:38.377671Z",
     "iopub.status.idle": "2023-03-15T07:47:40.527748Z",
     "shell.execute_reply": "2023-03-15T07:47:40.525918Z"
    },
    "papermill": {
     "duration": 2.164313,
     "end_time": "2023-03-15T07:47:40.530986",
     "exception": false,
     "start_time": "2023-03-15T07:47:38.366673",
     "status": "completed"
    },
    "tags": []
   },
   "outputs": [
    {
     "name": "stdout",
     "output_type": "stream",
     "text": [
      "/kaggle/input/ml-olympiad-into-the-space/sample_submission.csv\n",
      "/kaggle/input/ml-olympiad-into-the-space/train.csv\n",
      "/kaggle/input/ml-olympiad-into-the-space/test.csv\n"
     ]
    }
   ],
   "source": [
    "# This Python 3 environment comes with many helpful analytics libraries installed\n",
    "# It is defined by the kaggle/python Docker image: https://github.com/kaggle/docker-python\n",
    "# For example, here's several helpful packages to load\n",
    "\n",
    "import numpy as np # linear algebra\n",
    "import pandas as pd # data processing, CSV file I/O (e.g. pd.read_csv)\n",
    "from catboost import Pool, CatBoostClassifier\n",
    "import missingno as msno\n",
    "import seaborn as sns\n",
    "\n",
    "# Input data files are available in the read-only \"../input/\" directory\n",
    "# For example, running this (by clicking run or pressing Shift+Enter) will list all files under the input directory\n",
    "\n",
    "import os\n",
    "for dirname, _, filenames in os.walk('/kaggle/input'):\n",
    "    for filename in filenames:\n",
    "        print(os.path.join(dirname, filename))\n",
    "\n",
    "# You can write up to 20GB to the current directory (/kaggle/working/) that gets preserved as output when you create a version using \"Save & Run All\" \n",
    "# You can also write temporary files to /kaggle/temp/, but they won't be saved outside of the current session"
   ]
  },
  {
   "cell_type": "code",
   "execution_count": 3,
   "id": "10b80362",
   "metadata": {
    "execution": {
     "iopub.execute_input": "2023-03-15T07:47:40.551321Z",
     "iopub.status.busy": "2023-03-15T07:47:40.550852Z",
     "iopub.status.idle": "2023-03-15T07:47:40.660187Z",
     "shell.execute_reply": "2023-03-15T07:47:40.658722Z"
    },
    "papermill": {
     "duration": 0.123241,
     "end_time": "2023-03-15T07:47:40.663396",
     "exception": false,
     "start_time": "2023-03-15T07:47:40.540155",
     "status": "completed"
    },
    "tags": []
   },
   "outputs": [],
   "source": [
    "train = pd.read_csv(\"/kaggle/input/ml-olympiad-into-the-space/train.csv\", index_col = \"PassengerId\")\n",
    "test = pd.read_csv(\"/kaggle/input/ml-olympiad-into-the-space/test.csv\", index_col = \"PassengerId\")\n",
    "sample_submission = pd.read_csv(\"/kaggle/input/ml-olympiad-into-the-space/sample_submission.csv\")"
   ]
  },
  {
   "cell_type": "code",
   "execution_count": 4,
   "id": "bb3ef04f",
   "metadata": {
    "execution": {
     "iopub.execute_input": "2023-03-15T07:47:40.684114Z",
     "iopub.status.busy": "2023-03-15T07:47:40.683647Z",
     "iopub.status.idle": "2023-03-15T07:47:40.722527Z",
     "shell.execute_reply": "2023-03-15T07:47:40.721182Z"
    },
    "papermill": {
     "duration": 0.053028,
     "end_time": "2023-03-15T07:47:40.725531",
     "exception": false,
     "start_time": "2023-03-15T07:47:40.672503",
     "status": "completed"
    },
    "tags": []
   },
   "outputs": [
    {
     "data": {
      "text/html": [
       "<div>\n",
       "<style scoped>\n",
       "    .dataframe tbody tr th:only-of-type {\n",
       "        vertical-align: middle;\n",
       "    }\n",
       "\n",
       "    .dataframe tbody tr th {\n",
       "        vertical-align: top;\n",
       "    }\n",
       "\n",
       "    .dataframe thead th {\n",
       "        text-align: right;\n",
       "    }\n",
       "</style>\n",
       "<table border=\"1\" class=\"dataframe\">\n",
       "  <thead>\n",
       "    <tr style=\"text-align: right;\">\n",
       "      <th></th>\n",
       "      <th>HomePlanet</th>\n",
       "      <th>CryoSleep</th>\n",
       "      <th>Cabin</th>\n",
       "      <th>Destination</th>\n",
       "      <th>Age</th>\n",
       "      <th>VIP</th>\n",
       "      <th>RoomService</th>\n",
       "      <th>FoodCourt</th>\n",
       "      <th>ShoppingMall</th>\n",
       "      <th>Spa</th>\n",
       "      <th>VRDeck</th>\n",
       "      <th>Name</th>\n",
       "      <th>Transported</th>\n",
       "    </tr>\n",
       "    <tr>\n",
       "      <th>PassengerId</th>\n",
       "      <th></th>\n",
       "      <th></th>\n",
       "      <th></th>\n",
       "      <th></th>\n",
       "      <th></th>\n",
       "      <th></th>\n",
       "      <th></th>\n",
       "      <th></th>\n",
       "      <th></th>\n",
       "      <th></th>\n",
       "      <th></th>\n",
       "      <th></th>\n",
       "      <th></th>\n",
       "    </tr>\n",
       "  </thead>\n",
       "  <tbody>\n",
       "    <tr>\n",
       "      <th>0001_01</th>\n",
       "      <td>Europa</td>\n",
       "      <td>False</td>\n",
       "      <td>B/0/P</td>\n",
       "      <td>TRAPPIST-1e</td>\n",
       "      <td>39.0</td>\n",
       "      <td>False</td>\n",
       "      <td>0.0</td>\n",
       "      <td>0.0</td>\n",
       "      <td>0.0</td>\n",
       "      <td>0.0</td>\n",
       "      <td>0.0</td>\n",
       "      <td>Maham Ofracculy</td>\n",
       "      <td>False</td>\n",
       "    </tr>\n",
       "    <tr>\n",
       "      <th>0002_01</th>\n",
       "      <td>Earth</td>\n",
       "      <td>False</td>\n",
       "      <td>F/0/S</td>\n",
       "      <td>TRAPPIST-1e</td>\n",
       "      <td>24.0</td>\n",
       "      <td>False</td>\n",
       "      <td>109.0</td>\n",
       "      <td>9.0</td>\n",
       "      <td>25.0</td>\n",
       "      <td>549.0</td>\n",
       "      <td>44.0</td>\n",
       "      <td>Juanna Vines</td>\n",
       "      <td>True</td>\n",
       "    </tr>\n",
       "    <tr>\n",
       "      <th>0003_01</th>\n",
       "      <td>Europa</td>\n",
       "      <td>False</td>\n",
       "      <td>A/0/S</td>\n",
       "      <td>TRAPPIST-1e</td>\n",
       "      <td>58.0</td>\n",
       "      <td>True</td>\n",
       "      <td>43.0</td>\n",
       "      <td>3576.0</td>\n",
       "      <td>0.0</td>\n",
       "      <td>6715.0</td>\n",
       "      <td>49.0</td>\n",
       "      <td>Altark Susent</td>\n",
       "      <td>False</td>\n",
       "    </tr>\n",
       "    <tr>\n",
       "      <th>0003_02</th>\n",
       "      <td>Europa</td>\n",
       "      <td>False</td>\n",
       "      <td>A/0/S</td>\n",
       "      <td>TRAPPIST-1e</td>\n",
       "      <td>33.0</td>\n",
       "      <td>False</td>\n",
       "      <td>0.0</td>\n",
       "      <td>1283.0</td>\n",
       "      <td>371.0</td>\n",
       "      <td>3329.0</td>\n",
       "      <td>193.0</td>\n",
       "      <td>Solam Susent</td>\n",
       "      <td>False</td>\n",
       "    </tr>\n",
       "    <tr>\n",
       "      <th>0004_01</th>\n",
       "      <td>Earth</td>\n",
       "      <td>False</td>\n",
       "      <td>F/1/S</td>\n",
       "      <td>TRAPPIST-1e</td>\n",
       "      <td>16.0</td>\n",
       "      <td>False</td>\n",
       "      <td>303.0</td>\n",
       "      <td>70.0</td>\n",
       "      <td>151.0</td>\n",
       "      <td>565.0</td>\n",
       "      <td>2.0</td>\n",
       "      <td>Willy Santantines</td>\n",
       "      <td>True</td>\n",
       "    </tr>\n",
       "  </tbody>\n",
       "</table>\n",
       "</div>"
      ],
      "text/plain": [
       "            HomePlanet CryoSleep  Cabin  Destination   Age    VIP  \\\n",
       "PassengerId                                                         \n",
       "0001_01         Europa     False  B/0/P  TRAPPIST-1e  39.0  False   \n",
       "0002_01          Earth     False  F/0/S  TRAPPIST-1e  24.0  False   \n",
       "0003_01         Europa     False  A/0/S  TRAPPIST-1e  58.0   True   \n",
       "0003_02         Europa     False  A/0/S  TRAPPIST-1e  33.0  False   \n",
       "0004_01          Earth     False  F/1/S  TRAPPIST-1e  16.0  False   \n",
       "\n",
       "             RoomService  FoodCourt  ShoppingMall     Spa  VRDeck  \\\n",
       "PassengerId                                                         \n",
       "0001_01              0.0        0.0           0.0     0.0     0.0   \n",
       "0002_01            109.0        9.0          25.0   549.0    44.0   \n",
       "0003_01             43.0     3576.0           0.0  6715.0    49.0   \n",
       "0003_02              0.0     1283.0         371.0  3329.0   193.0   \n",
       "0004_01            303.0       70.0         151.0   565.0     2.0   \n",
       "\n",
       "                          Name  Transported  \n",
       "PassengerId                                  \n",
       "0001_01        Maham Ofracculy        False  \n",
       "0002_01           Juanna Vines         True  \n",
       "0003_01          Altark Susent        False  \n",
       "0003_02           Solam Susent        False  \n",
       "0004_01      Willy Santantines         True  "
      ]
     },
     "execution_count": 4,
     "metadata": {},
     "output_type": "execute_result"
    }
   ],
   "source": [
    "train.head(5)"
   ]
  },
  {
   "cell_type": "code",
   "execution_count": 5,
   "id": "fbee3272",
   "metadata": {
    "execution": {
     "iopub.execute_input": "2023-03-15T07:47:40.746042Z",
     "iopub.status.busy": "2023-03-15T07:47:40.745624Z",
     "iopub.status.idle": "2023-03-15T07:47:40.767392Z",
     "shell.execute_reply": "2023-03-15T07:47:40.766073Z"
    },
    "papermill": {
     "duration": 0.034792,
     "end_time": "2023-03-15T07:47:40.769722",
     "exception": false,
     "start_time": "2023-03-15T07:47:40.734930",
     "status": "completed"
    },
    "tags": []
   },
   "outputs": [
    {
     "data": {
      "text/html": [
       "<div>\n",
       "<style scoped>\n",
       "    .dataframe tbody tr th:only-of-type {\n",
       "        vertical-align: middle;\n",
       "    }\n",
       "\n",
       "    .dataframe tbody tr th {\n",
       "        vertical-align: top;\n",
       "    }\n",
       "\n",
       "    .dataframe thead th {\n",
       "        text-align: right;\n",
       "    }\n",
       "</style>\n",
       "<table border=\"1\" class=\"dataframe\">\n",
       "  <thead>\n",
       "    <tr style=\"text-align: right;\">\n",
       "      <th></th>\n",
       "      <th>HomePlanet</th>\n",
       "      <th>CryoSleep</th>\n",
       "      <th>Cabin</th>\n",
       "      <th>Destination</th>\n",
       "      <th>Age</th>\n",
       "      <th>VIP</th>\n",
       "      <th>RoomService</th>\n",
       "      <th>FoodCourt</th>\n",
       "      <th>ShoppingMall</th>\n",
       "      <th>Spa</th>\n",
       "      <th>VRDeck</th>\n",
       "      <th>Name</th>\n",
       "    </tr>\n",
       "    <tr>\n",
       "      <th>PassengerId</th>\n",
       "      <th></th>\n",
       "      <th></th>\n",
       "      <th></th>\n",
       "      <th></th>\n",
       "      <th></th>\n",
       "      <th></th>\n",
       "      <th></th>\n",
       "      <th></th>\n",
       "      <th></th>\n",
       "      <th></th>\n",
       "      <th></th>\n",
       "      <th></th>\n",
       "    </tr>\n",
       "  </thead>\n",
       "  <tbody>\n",
       "    <tr>\n",
       "      <th>0013_01</th>\n",
       "      <td>Earth</td>\n",
       "      <td>True</td>\n",
       "      <td>G/3/S</td>\n",
       "      <td>TRAPPIST-1e</td>\n",
       "      <td>27.0</td>\n",
       "      <td>False</td>\n",
       "      <td>0.0</td>\n",
       "      <td>0.0</td>\n",
       "      <td>0.0</td>\n",
       "      <td>0.0</td>\n",
       "      <td>0.0</td>\n",
       "      <td>Nelly Carsoning</td>\n",
       "    </tr>\n",
       "    <tr>\n",
       "      <th>0018_01</th>\n",
       "      <td>Earth</td>\n",
       "      <td>False</td>\n",
       "      <td>F/4/S</td>\n",
       "      <td>TRAPPIST-1e</td>\n",
       "      <td>19.0</td>\n",
       "      <td>False</td>\n",
       "      <td>0.0</td>\n",
       "      <td>9.0</td>\n",
       "      <td>0.0</td>\n",
       "      <td>2823.0</td>\n",
       "      <td>0.0</td>\n",
       "      <td>Lerome Peckers</td>\n",
       "    </tr>\n",
       "    <tr>\n",
       "      <th>0019_01</th>\n",
       "      <td>Europa</td>\n",
       "      <td>True</td>\n",
       "      <td>C/0/S</td>\n",
       "      <td>55 Cancri e</td>\n",
       "      <td>31.0</td>\n",
       "      <td>False</td>\n",
       "      <td>0.0</td>\n",
       "      <td>0.0</td>\n",
       "      <td>0.0</td>\n",
       "      <td>0.0</td>\n",
       "      <td>0.0</td>\n",
       "      <td>Sabih Unhearfus</td>\n",
       "    </tr>\n",
       "    <tr>\n",
       "      <th>0021_01</th>\n",
       "      <td>Europa</td>\n",
       "      <td>False</td>\n",
       "      <td>C/1/S</td>\n",
       "      <td>TRAPPIST-1e</td>\n",
       "      <td>38.0</td>\n",
       "      <td>False</td>\n",
       "      <td>0.0</td>\n",
       "      <td>6652.0</td>\n",
       "      <td>0.0</td>\n",
       "      <td>181.0</td>\n",
       "      <td>585.0</td>\n",
       "      <td>Meratz Caltilter</td>\n",
       "    </tr>\n",
       "    <tr>\n",
       "      <th>0023_01</th>\n",
       "      <td>Earth</td>\n",
       "      <td>False</td>\n",
       "      <td>F/5/S</td>\n",
       "      <td>TRAPPIST-1e</td>\n",
       "      <td>20.0</td>\n",
       "      <td>False</td>\n",
       "      <td>10.0</td>\n",
       "      <td>0.0</td>\n",
       "      <td>635.0</td>\n",
       "      <td>0.0</td>\n",
       "      <td>0.0</td>\n",
       "      <td>Brence Harperez</td>\n",
       "    </tr>\n",
       "  </tbody>\n",
       "</table>\n",
       "</div>"
      ],
      "text/plain": [
       "            HomePlanet CryoSleep  Cabin  Destination   Age    VIP  \\\n",
       "PassengerId                                                         \n",
       "0013_01          Earth      True  G/3/S  TRAPPIST-1e  27.0  False   \n",
       "0018_01          Earth     False  F/4/S  TRAPPIST-1e  19.0  False   \n",
       "0019_01         Europa      True  C/0/S  55 Cancri e  31.0  False   \n",
       "0021_01         Europa     False  C/1/S  TRAPPIST-1e  38.0  False   \n",
       "0023_01          Earth     False  F/5/S  TRAPPIST-1e  20.0  False   \n",
       "\n",
       "             RoomService  FoodCourt  ShoppingMall     Spa  VRDeck  \\\n",
       "PassengerId                                                         \n",
       "0013_01              0.0        0.0           0.0     0.0     0.0   \n",
       "0018_01              0.0        9.0           0.0  2823.0     0.0   \n",
       "0019_01              0.0        0.0           0.0     0.0     0.0   \n",
       "0021_01              0.0     6652.0           0.0   181.0   585.0   \n",
       "0023_01             10.0        0.0         635.0     0.0     0.0   \n",
       "\n",
       "                         Name  \n",
       "PassengerId                    \n",
       "0013_01       Nelly Carsoning  \n",
       "0018_01        Lerome Peckers  \n",
       "0019_01       Sabih Unhearfus  \n",
       "0021_01      Meratz Caltilter  \n",
       "0023_01       Brence Harperez  "
      ]
     },
     "execution_count": 5,
     "metadata": {},
     "output_type": "execute_result"
    }
   ],
   "source": [
    "test.head(5)"
   ]
  },
  {
   "cell_type": "code",
   "execution_count": 6,
   "id": "7a71460c",
   "metadata": {
    "execution": {
     "iopub.execute_input": "2023-03-15T07:47:40.791598Z",
     "iopub.status.busy": "2023-03-15T07:47:40.790827Z",
     "iopub.status.idle": "2023-03-15T07:47:40.802192Z",
     "shell.execute_reply": "2023-03-15T07:47:40.800939Z"
    },
    "papermill": {
     "duration": 0.025289,
     "end_time": "2023-03-15T07:47:40.804725",
     "exception": false,
     "start_time": "2023-03-15T07:47:40.779436",
     "status": "completed"
    },
    "tags": []
   },
   "outputs": [
    {
     "data": {
      "text/html": [
       "<div>\n",
       "<style scoped>\n",
       "    .dataframe tbody tr th:only-of-type {\n",
       "        vertical-align: middle;\n",
       "    }\n",
       "\n",
       "    .dataframe tbody tr th {\n",
       "        vertical-align: top;\n",
       "    }\n",
       "\n",
       "    .dataframe thead th {\n",
       "        text-align: right;\n",
       "    }\n",
       "</style>\n",
       "<table border=\"1\" class=\"dataframe\">\n",
       "  <thead>\n",
       "    <tr style=\"text-align: right;\">\n",
       "      <th></th>\n",
       "      <th>PassengerId</th>\n",
       "      <th>Transported</th>\n",
       "    </tr>\n",
       "  </thead>\n",
       "  <tbody>\n",
       "    <tr>\n",
       "      <th>0</th>\n",
       "      <td>0013_01</td>\n",
       "      <td>False</td>\n",
       "    </tr>\n",
       "    <tr>\n",
       "      <th>1</th>\n",
       "      <td>0018_01</td>\n",
       "      <td>False</td>\n",
       "    </tr>\n",
       "    <tr>\n",
       "      <th>2</th>\n",
       "      <td>0019_01</td>\n",
       "      <td>False</td>\n",
       "    </tr>\n",
       "    <tr>\n",
       "      <th>3</th>\n",
       "      <td>0021_01</td>\n",
       "      <td>False</td>\n",
       "    </tr>\n",
       "    <tr>\n",
       "      <th>4</th>\n",
       "      <td>0023_01</td>\n",
       "      <td>False</td>\n",
       "    </tr>\n",
       "  </tbody>\n",
       "</table>\n",
       "</div>"
      ],
      "text/plain": [
       "  PassengerId  Transported\n",
       "0     0013_01        False\n",
       "1     0018_01        False\n",
       "2     0019_01        False\n",
       "3     0021_01        False\n",
       "4     0023_01        False"
      ]
     },
     "execution_count": 6,
     "metadata": {},
     "output_type": "execute_result"
    }
   ],
   "source": [
    "sample_submission.head()"
   ]
  },
  {
   "cell_type": "code",
   "execution_count": 7,
   "id": "4106921f",
   "metadata": {
    "execution": {
     "iopub.execute_input": "2023-03-15T07:47:40.826729Z",
     "iopub.status.busy": "2023-03-15T07:47:40.826007Z",
     "iopub.status.idle": "2023-03-15T07:47:40.867619Z",
     "shell.execute_reply": "2023-03-15T07:47:40.866271Z"
    },
    "papermill": {
     "duration": 0.055683,
     "end_time": "2023-03-15T07:47:40.870187",
     "exception": false,
     "start_time": "2023-03-15T07:47:40.814504",
     "status": "completed"
    },
    "tags": []
   },
   "outputs": [
    {
     "data": {
      "text/html": [
       "<div>\n",
       "<style scoped>\n",
       "    .dataframe tbody tr th:only-of-type {\n",
       "        vertical-align: middle;\n",
       "    }\n",
       "\n",
       "    .dataframe tbody tr th {\n",
       "        vertical-align: top;\n",
       "    }\n",
       "\n",
       "    .dataframe thead th {\n",
       "        text-align: right;\n",
       "    }\n",
       "</style>\n",
       "<table border=\"1\" class=\"dataframe\">\n",
       "  <thead>\n",
       "    <tr style=\"text-align: right;\">\n",
       "      <th></th>\n",
       "      <th>Age</th>\n",
       "      <th>RoomService</th>\n",
       "      <th>FoodCourt</th>\n",
       "      <th>ShoppingMall</th>\n",
       "      <th>Spa</th>\n",
       "      <th>VRDeck</th>\n",
       "    </tr>\n",
       "  </thead>\n",
       "  <tbody>\n",
       "    <tr>\n",
       "      <th>count</th>\n",
       "      <td>4186.000000</td>\n",
       "      <td>4195.000000</td>\n",
       "      <td>4171.000000</td>\n",
       "      <td>4179.000000</td>\n",
       "      <td>4176.000000</td>\n",
       "      <td>4197.000000</td>\n",
       "    </tr>\n",
       "    <tr>\n",
       "      <th>mean</th>\n",
       "      <td>28.658146</td>\n",
       "      <td>219.266269</td>\n",
       "      <td>439.484296</td>\n",
       "      <td>177.295525</td>\n",
       "      <td>303.052443</td>\n",
       "      <td>310.710031</td>\n",
       "    </tr>\n",
       "    <tr>\n",
       "      <th>std</th>\n",
       "      <td>14.179072</td>\n",
       "      <td>607.011289</td>\n",
       "      <td>1527.663045</td>\n",
       "      <td>560.821123</td>\n",
       "      <td>1117.186015</td>\n",
       "      <td>1246.994742</td>\n",
       "    </tr>\n",
       "    <tr>\n",
       "      <th>min</th>\n",
       "      <td>0.000000</td>\n",
       "      <td>0.000000</td>\n",
       "      <td>0.000000</td>\n",
       "      <td>0.000000</td>\n",
       "      <td>0.000000</td>\n",
       "      <td>0.000000</td>\n",
       "    </tr>\n",
       "    <tr>\n",
       "      <th>25%</th>\n",
       "      <td>19.000000</td>\n",
       "      <td>0.000000</td>\n",
       "      <td>0.000000</td>\n",
       "      <td>0.000000</td>\n",
       "      <td>0.000000</td>\n",
       "      <td>0.000000</td>\n",
       "    </tr>\n",
       "    <tr>\n",
       "      <th>50%</th>\n",
       "      <td>26.000000</td>\n",
       "      <td>0.000000</td>\n",
       "      <td>0.000000</td>\n",
       "      <td>0.000000</td>\n",
       "      <td>0.000000</td>\n",
       "      <td>0.000000</td>\n",
       "    </tr>\n",
       "    <tr>\n",
       "      <th>75%</th>\n",
       "      <td>37.000000</td>\n",
       "      <td>53.000000</td>\n",
       "      <td>78.000000</td>\n",
       "      <td>33.000000</td>\n",
       "      <td>50.000000</td>\n",
       "      <td>36.000000</td>\n",
       "    </tr>\n",
       "    <tr>\n",
       "      <th>max</th>\n",
       "      <td>79.000000</td>\n",
       "      <td>11567.000000</td>\n",
       "      <td>25273.000000</td>\n",
       "      <td>8292.000000</td>\n",
       "      <td>19844.000000</td>\n",
       "      <td>22272.000000</td>\n",
       "    </tr>\n",
       "  </tbody>\n",
       "</table>\n",
       "</div>"
      ],
      "text/plain": [
       "               Age   RoomService     FoodCourt  ShoppingMall           Spa  \\\n",
       "count  4186.000000   4195.000000   4171.000000   4179.000000   4176.000000   \n",
       "mean     28.658146    219.266269    439.484296    177.295525    303.052443   \n",
       "std      14.179072    607.011289   1527.663045    560.821123   1117.186015   \n",
       "min       0.000000      0.000000      0.000000      0.000000      0.000000   \n",
       "25%      19.000000      0.000000      0.000000      0.000000      0.000000   \n",
       "50%      26.000000      0.000000      0.000000      0.000000      0.000000   \n",
       "75%      37.000000     53.000000     78.000000     33.000000     50.000000   \n",
       "max      79.000000  11567.000000  25273.000000   8292.000000  19844.000000   \n",
       "\n",
       "             VRDeck  \n",
       "count   4197.000000  \n",
       "mean     310.710031  \n",
       "std     1246.994742  \n",
       "min        0.000000  \n",
       "25%        0.000000  \n",
       "50%        0.000000  \n",
       "75%       36.000000  \n",
       "max    22272.000000  "
      ]
     },
     "execution_count": 7,
     "metadata": {},
     "output_type": "execute_result"
    }
   ],
   "source": [
    "test.describe()"
   ]
  },
  {
   "cell_type": "code",
   "execution_count": 8,
   "id": "272a7cf5",
   "metadata": {
    "execution": {
     "iopub.execute_input": "2023-03-15T07:47:40.893457Z",
     "iopub.status.busy": "2023-03-15T07:47:40.892973Z",
     "iopub.status.idle": "2023-03-15T07:47:40.904280Z",
     "shell.execute_reply": "2023-03-15T07:47:40.903451Z"
    },
    "papermill": {
     "duration": 0.024846,
     "end_time": "2023-03-15T07:47:40.906431",
     "exception": false,
     "start_time": "2023-03-15T07:47:40.881585",
     "status": "completed"
    },
    "tags": []
   },
   "outputs": [
    {
     "data": {
      "text/plain": [
       "HomePlanet       87\n",
       "CryoSleep        93\n",
       "Cabin           100\n",
       "Destination      92\n",
       "Age              91\n",
       "VIP              93\n",
       "RoomService      82\n",
       "FoodCourt       106\n",
       "ShoppingMall     98\n",
       "Spa             101\n",
       "VRDeck           80\n",
       "Name             94\n",
       "dtype: int64"
      ]
     },
     "execution_count": 8,
     "metadata": {},
     "output_type": "execute_result"
    }
   ],
   "source": [
    "test.isnull().sum()"
   ]
  },
  {
   "cell_type": "code",
   "execution_count": 9,
   "id": "2c260c27",
   "metadata": {
    "execution": {
     "iopub.execute_input": "2023-03-15T07:47:40.929000Z",
     "iopub.status.busy": "2023-03-15T07:47:40.928227Z",
     "iopub.status.idle": "2023-03-15T07:47:42.298448Z",
     "shell.execute_reply": "2023-03-15T07:47:42.296811Z"
    },
    "papermill": {
     "duration": 1.38541,
     "end_time": "2023-03-15T07:47:42.301925",
     "exception": false,
     "start_time": "2023-03-15T07:47:40.916515",
     "status": "completed"
    },
    "tags": []
   },
   "outputs": [
    {
     "data": {
      "text/plain": [
       "<AxesSubplot:>"
      ]
     },
     "execution_count": 9,
     "metadata": {},
     "output_type": "execute_result"
    },
    {
     "data": {
      "image/png": "[encoded data removed]",
      "text/plain": [
       "<Figure size 2500x1000 with 3 Axes>"
      ]
     },
     "metadata": {},
     "output_type": "display_data"
    }
   ],
   "source": [
    "msno.bar(train)"
   ]
  },
  {
   "cell_type": "markdown",
   "id": "246fd974",
   "metadata": {
    "papermill": {
     "duration": 0.011594,
     "end_time": "2023-03-15T07:47:42.325800",
     "exception": false,
     "start_time": "2023-03-15T07:47:42.314206",
     "status": "completed"
    },
    "tags": []
   },
   "source": [
    "### Let's separate the cabin columns into three new features: deck, num and side."
   ]
  },
  {
   "cell_type": "code",
   "execution_count": 10,
   "id": "5faa329a",
   "metadata": {
    "execution": {
     "iopub.execute_input": "2023-03-15T07:47:42.351951Z",
     "iopub.status.busy": "2023-03-15T07:47:42.350965Z",
     "iopub.status.idle": "2023-03-15T07:47:42.387457Z",
     "shell.execute_reply": "2023-03-15T07:47:42.386209Z"
    },
    "papermill": {
     "duration": 0.052726,
     "end_time": "2023-03-15T07:47:42.390410",
     "exception": false,
     "start_time": "2023-03-15T07:47:42.337684",
     "status": "completed"
    },
    "tags": []
   },
   "outputs": [],
   "source": [
    "train[[\"deck\", \"num\", \"side\"]] = train[\"Cabin\"].str.split(\"/\", expand = True)\n",
    "test[[\"deck\", \"num\", \"side\"]] = test[\"Cabin\"].str.split(\"/\", expand = True)"
   ]
  },
  {
   "cell_type": "code",
   "execution_count": 11,
   "id": "db44899e",
   "metadata": {
    "execution": {
     "iopub.execute_input": "2023-03-15T07:47:42.415845Z",
     "iopub.status.busy": "2023-03-15T07:47:42.415437Z",
     "iopub.status.idle": "2023-03-15T07:47:42.423061Z",
     "shell.execute_reply": "2023-03-15T07:47:42.421699Z"
    },
    "papermill": {
     "duration": 0.023205,
     "end_time": "2023-03-15T07:47:42.425574",
     "exception": false,
     "start_time": "2023-03-15T07:47:42.402369",
     "status": "completed"
    },
    "tags": []
   },
   "outputs": [],
   "source": [
    "object_cols = [col for col in train.columns if train[col].dtype == 'object' or train[col].dtype == 'category']\n",
    "numeric_cols = [col for col in train.columns if train[col].dtype == 'float64']"
   ]
  },
  {
   "cell_type": "code",
   "execution_count": 12,
   "id": "91bb1c0f",
   "metadata": {
    "execution": {
     "iopub.execute_input": "2023-03-15T07:47:42.451957Z",
     "iopub.status.busy": "2023-03-15T07:47:42.451541Z",
     "iopub.status.idle": "2023-03-15T07:47:42.458080Z",
     "shell.execute_reply": "2023-03-15T07:47:42.456514Z"
    },
    "papermill": {
     "duration": 0.022801,
     "end_time": "2023-03-15T07:47:42.460870",
     "exception": false,
     "start_time": "2023-03-15T07:47:42.438069",
     "status": "completed"
    },
    "tags": []
   },
   "outputs": [
    {
     "name": "stdout",
     "output_type": "stream",
     "text": [
      "['HomePlanet', 'CryoSleep', 'Cabin', 'Destination', 'VIP', 'Name', 'deck', 'num', 'side']\n"
     ]
    }
   ],
   "source": [
    "print(object_cols)"
   ]
  },
  {
   "cell_type": "code",
   "execution_count": 13,
   "id": "159cf36f",
   "metadata": {
    "execution": {
     "iopub.execute_input": "2023-03-15T07:47:42.486569Z",
     "iopub.status.busy": "2023-03-15T07:47:42.486133Z",
     "iopub.status.idle": "2023-03-15T07:47:42.492154Z",
     "shell.execute_reply": "2023-03-15T07:47:42.490826Z"
    },
    "papermill": {
     "duration": 0.022689,
     "end_time": "2023-03-15T07:47:42.495488",
     "exception": false,
     "start_time": "2023-03-15T07:47:42.472799",
     "status": "completed"
    },
    "tags": []
   },
   "outputs": [
    {
     "name": "stdout",
     "output_type": "stream",
     "text": [
      "['Age', 'RoomService', 'FoodCourt', 'ShoppingMall', 'Spa', 'VRDeck']\n"
     ]
    }
   ],
   "source": [
    "print(numeric_cols)"
   ]
  },
  {
   "cell_type": "code",
   "execution_count": 14,
   "id": "33499104",
   "metadata": {
    "execution": {
     "iopub.execute_input": "2023-03-15T07:47:42.522380Z",
     "iopub.status.busy": "2023-03-15T07:47:42.521926Z",
     "iopub.status.idle": "2023-03-15T07:47:42.527549Z",
     "shell.execute_reply": "2023-03-15T07:47:42.526184Z"
    },
    "papermill": {
     "duration": 0.022337,
     "end_time": "2023-03-15T07:47:42.530083",
     "exception": false,
     "start_time": "2023-03-15T07:47:42.507746",
     "status": "completed"
    },
    "tags": []
   },
   "outputs": [],
   "source": [
    "col_to_sum = [\"RoomService\", \"FoodCourt\", \"ShoppingMall\", \"Spa\", \"VRDeck\"]"
   ]
  },
  {
   "cell_type": "code",
   "execution_count": 15,
   "id": "5e8f43eb",
   "metadata": {
    "execution": {
     "iopub.execute_input": "2023-03-15T07:47:42.557302Z",
     "iopub.status.busy": "2023-03-15T07:47:42.556823Z",
     "iopub.status.idle": "2023-03-15T07:47:42.572438Z",
     "shell.execute_reply": "2023-03-15T07:47:42.571144Z"
    },
    "papermill": {
     "duration": 0.032589,
     "end_time": "2023-03-15T07:47:42.575418",
     "exception": false,
     "start_time": "2023-03-15T07:47:42.542829",
     "status": "completed"
    },
    "tags": []
   },
   "outputs": [],
   "source": [
    "train[\"SumSpends\"] = train[col_to_sum].sum(axis = 1)\n",
    "test[\"SumSpends\"] = test[col_to_sum].sum(axis = 1)"
   ]
  },
  {
   "cell_type": "code",
   "execution_count": 16,
   "id": "d02af667",
   "metadata": {
    "execution": {
     "iopub.execute_input": "2023-03-15T07:47:42.602880Z",
     "iopub.status.busy": "2023-03-15T07:47:42.601745Z",
     "iopub.status.idle": "2023-03-15T07:47:42.619172Z",
     "shell.execute_reply": "2023-03-15T07:47:42.617796Z"
    },
    "papermill": {
     "duration": 0.033863,
     "end_time": "2023-03-15T07:47:42.621801",
     "exception": false,
     "start_time": "2023-03-15T07:47:42.587938",
     "status": "completed"
    },
    "tags": []
   },
   "outputs": [
    {
     "data": {
      "text/plain": [
       "['CryoSleep',\n",
       " 'ShoppingMall',\n",
       " 'VIP',\n",
       " 'HomePlanet',\n",
       " 'Name',\n",
       " 'Cabin',\n",
       " 'deck',\n",
       " 'num',\n",
       " 'side',\n",
       " 'VRDeck',\n",
       " 'FoodCourt',\n",
       " 'Spa',\n",
       " 'Destination',\n",
       " 'RoomService',\n",
       " 'Age']"
      ]
     },
     "execution_count": 16,
     "metadata": {},
     "output_type": "execute_result"
    }
   ],
   "source": [
    "null_cols = train.isnull().sum().sort_values(ascending=False)\n",
    "null_cols = list(null_cols[null_cols>1].index)\n",
    "null_cols"
   ]
  },
  {
   "cell_type": "code",
   "execution_count": 17,
   "id": "4cb377bf",
   "metadata": {
    "execution": {
     "iopub.execute_input": "2023-03-15T07:47:42.648415Z",
     "iopub.status.busy": "2023-03-15T07:47:42.647444Z",
     "iopub.status.idle": "2023-03-15T07:47:42.723351Z",
     "shell.execute_reply": "2023-03-15T07:47:42.721865Z"
    },
    "papermill": {
     "duration": 0.092691,
     "end_time": "2023-03-15T07:47:42.726586",
     "exception": false,
     "start_time": "2023-03-15T07:47:42.633895",
     "status": "completed"
    },
    "tags": []
   },
   "outputs": [],
   "source": [
    "train[object_cols] = train[object_cols].astype(\"category\")\n",
    "test[object_cols] = test[object_cols].astype(\"category\")"
   ]
  },
  {
   "cell_type": "code",
   "execution_count": 18,
   "id": "9087580c",
   "metadata": {
    "execution": {
     "iopub.execute_input": "2023-03-15T07:47:42.753685Z",
     "iopub.status.busy": "2023-03-15T07:47:42.753252Z",
     "iopub.status.idle": "2023-03-15T07:47:42.759550Z",
     "shell.execute_reply": "2023-03-15T07:47:42.758181Z"
    },
    "papermill": {
     "duration": 0.024321,
     "end_time": "2023-03-15T07:47:42.763110",
     "exception": false,
     "start_time": "2023-03-15T07:47:42.738789",
     "status": "completed"
    },
    "tags": []
   },
   "outputs": [
    {
     "name": "stdout",
     "output_type": "stream",
     "text": [
      "(8693, 17)\n"
     ]
    }
   ],
   "source": [
    "print(train.shape)"
   ]
  },
  {
   "cell_type": "code",
   "execution_count": 19,
   "id": "02b93272",
   "metadata": {
    "execution": {
     "iopub.execute_input": "2023-03-15T07:47:42.790030Z",
     "iopub.status.busy": "2023-03-15T07:47:42.789610Z",
     "iopub.status.idle": "2023-03-15T07:47:42.796269Z",
     "shell.execute_reply": "2023-03-15T07:47:42.794577Z"
    },
    "papermill": {
     "duration": 0.022761,
     "end_time": "2023-03-15T07:47:42.798772",
     "exception": false,
     "start_time": "2023-03-15T07:47:42.776011",
     "status": "completed"
    },
    "tags": []
   },
   "outputs": [
    {
     "name": "stdout",
     "output_type": "stream",
     "text": [
      "(4277, 16)\n"
     ]
    }
   ],
   "source": [
    "print(test.shape)"
   ]
  },
  {
   "cell_type": "markdown",
   "id": "d948f22a",
   "metadata": {
    "papermill": {
     "duration": 0.011915,
     "end_time": "2023-03-15T07:47:42.823214",
     "exception": false,
     "start_time": "2023-03-15T07:47:42.811299",
     "status": "completed"
    },
    "tags": []
   },
   "source": [
    "## Encoding the Categorical Variables"
   ]
  },
  {
   "cell_type": "code",
   "execution_count": 20,
   "id": "660c1b26",
   "metadata": {
    "execution": {
     "iopub.execute_input": "2023-03-15T07:47:42.849258Z",
     "iopub.status.busy": "2023-03-15T07:47:42.848810Z",
     "iopub.status.idle": "2023-03-15T07:47:43.094459Z",
     "shell.execute_reply": "2023-03-15T07:47:43.092687Z"
    },
    "papermill": {
     "duration": 0.262446,
     "end_time": "2023-03-15T07:47:43.097734",
     "exception": false,
     "start_time": "2023-03-15T07:47:42.835288",
     "status": "completed"
    },
    "tags": []
   },
   "outputs": [],
   "source": [
    "from sklearn.preprocessing import OrdinalEncoder\n",
    "\n",
    "oc = OrdinalEncoder()\n",
    "\n",
    "df_for_encode = pd.concat([train, test])\n",
    "\n",
    "df_for_encode[object_cols] = df_for_encode[object_cols].astype('category')\n",
    "\n",
    "df_for_encode[object_cols] = oc.fit_transform(df_for_encode[object_cols])\n",
    "\n",
    "del train, test\n",
    "\n",
    "train = df_for_encode.iloc[:8693, :]\n",
    "test = df_for_encode.iloc[8693: , :]\n",
    "\n",
    "del df_for_encode\n",
    "\n",
    "test.drop('Transported', inplace=True, axis=1)"
   ]
  },
  {
   "cell_type": "code",
   "execution_count": 21,
   "id": "fd6cf553",
   "metadata": {
    "execution": {
     "iopub.execute_input": "2023-03-15T07:47:43.123896Z",
     "iopub.status.busy": "2023-03-15T07:47:43.123426Z",
     "iopub.status.idle": "2023-03-15T07:47:43.129688Z",
     "shell.execute_reply": "2023-03-15T07:47:43.128527Z"
    },
    "papermill": {
     "duration": 0.022449,
     "end_time": "2023-03-15T07:47:43.132258",
     "exception": false,
     "start_time": "2023-03-15T07:47:43.109809",
     "status": "completed"
    },
    "tags": []
   },
   "outputs": [
    {
     "name": "stdout",
     "output_type": "stream",
     "text": [
      "(8693, 17)\n"
     ]
    }
   ],
   "source": [
    "print(train.shape)"
   ]
  },
  {
   "cell_type": "code",
   "execution_count": 22,
   "id": "3d4360f7",
   "metadata": {
    "execution": {
     "iopub.execute_input": "2023-03-15T07:47:43.160024Z",
     "iopub.status.busy": "2023-03-15T07:47:43.159230Z",
     "iopub.status.idle": "2023-03-15T07:47:43.166172Z",
     "shell.execute_reply": "2023-03-15T07:47:43.164335Z"
    },
    "papermill": {
     "duration": 0.023794,
     "end_time": "2023-03-15T07:47:43.169040",
     "exception": false,
     "start_time": "2023-03-15T07:47:43.145246",
     "status": "completed"
    },
    "tags": []
   },
   "outputs": [
    {
     "name": "stdout",
     "output_type": "stream",
     "text": [
      "(4277, 16)\n"
     ]
    }
   ],
   "source": [
    "print(test.shape)"
   ]
  },
  {
   "cell_type": "code",
   "execution_count": 23,
   "id": "9af1c319",
   "metadata": {
    "execution": {
     "iopub.execute_input": "2023-03-15T07:47:43.195789Z",
     "iopub.status.busy": "2023-03-15T07:47:43.195308Z",
     "iopub.status.idle": "2023-03-15T07:47:43.502408Z",
     "shell.execute_reply": "2023-03-15T07:47:43.501241Z"
    },
    "papermill": {
     "duration": 0.323989,
     "end_time": "2023-03-15T07:47:43.505410",
     "exception": false,
     "start_time": "2023-03-15T07:47:43.181421",
     "status": "completed"
    },
    "tags": []
   },
   "outputs": [],
   "source": [
    "from sklearn.impute import SimpleImputer\n",
    "from sklearn.compose import ColumnTransformer\n",
    "\n",
    "ct = ColumnTransformer([(\"imp\", SimpleImputer(strategy=\"mean\"), null_cols)])\n",
    "\n",
    "train[null_cols] = ct.fit_transform(train[null_cols])\n",
    "test[null_cols] = ct.fit_transform(test[null_cols])"
   ]
  },
  {
   "cell_type": "code",
   "execution_count": 24,
   "id": "c251a39f",
   "metadata": {
    "execution": {
     "iopub.execute_input": "2023-03-15T07:47:43.534684Z",
     "iopub.status.busy": "2023-03-15T07:47:43.534250Z",
     "iopub.status.idle": "2023-03-15T07:47:43.540884Z",
     "shell.execute_reply": "2023-03-15T07:47:43.539908Z"
    },
    "papermill": {
     "duration": 0.022632,
     "end_time": "2023-03-15T07:47:43.543132",
     "exception": false,
     "start_time": "2023-03-15T07:47:43.520500",
     "status": "completed"
    },
    "tags": []
   },
   "outputs": [],
   "source": [
    "X = train.copy()\n",
    "y = X.pop(\"Transported\")"
   ]
  },
  {
   "cell_type": "markdown",
   "id": "c0cf325b",
   "metadata": {
    "papermill": {
     "duration": 0.012091,
     "end_time": "2023-03-15T07:47:43.567840",
     "exception": false,
     "start_time": "2023-03-15T07:47:43.555749",
     "status": "completed"
    },
    "tags": []
   },
   "source": [
    "### A free of modularity in feature engineering"
   ]
  },
  {
   "cell_type": "code",
   "execution_count": 25,
   "id": "700f2e4a",
   "metadata": {
    "execution": {
     "iopub.execute_input": "2023-03-15T07:47:43.596331Z",
     "iopub.status.busy": "2023-03-15T07:47:43.595450Z",
     "iopub.status.idle": "2023-03-15T07:48:09.527430Z",
     "shell.execute_reply": "2023-03-15T07:48:09.525904Z"
    },
    "papermill": {
     "duration": 25.949995,
     "end_time": "2023-03-15T07:48:09.530699",
     "exception": false,
     "start_time": "2023-03-15T07:47:43.580704",
     "status": "completed"
    },
    "tags": []
   },
   "outputs": [
    {
     "name": "stdout",
     "output_type": "stream",
     "text": [
      "Collecting headjackai-sdk\r\n",
      "  Downloading headjackai_sdk-0.2.20-py3-none-any.whl (6.1 kB)\r\n",
      "Collecting scikit-learn==0.24.2\r\n",
      "  Downloading scikit_learn-0.24.2-cp37-cp37m-manylinux2010_x86_64.whl (22.3 MB)\r\n",
      "\u001b[2K     \u001b[90m━━━━━━━━━━━━━━━━━━━━━━━━━━━━━━━━━━━━━━━━\u001b[0m \u001b[32m22.3/22.3 MB\u001b[0m \u001b[31m37.5 MB/s\u001b[0m eta \u001b[36m0:00:00\u001b[0m\r\n",
      "\u001b[?25hCollecting pandas==1.1.5\r\n",
      "  Downloading pandas-1.1.5-cp37-cp37m-manylinux1_x86_64.whl (9.5 MB)\r\n",
      "\u001b[2K     \u001b[90m━━━━━━━━━━━━━━━━━━━━━━━━━━━━━━━━━━━━━━━━\u001b[0m \u001b[32m9.5/9.5 MB\u001b[0m \u001b[31m62.4 MB/s\u001b[0m eta \u001b[36m0:00:00\u001b[0m\r\n",
      "\u001b[?25hCollecting requests==2.26.0\r\n",
      "  Downloading requests-2.26.0-py2.py3-none-any.whl (62 kB)\r\n",
      "\u001b[2K     \u001b[90m━━━━━━━━━━━━━━━━━━━━━━━━━━━━━━━━━━━━━━━━\u001b[0m \u001b[32m62.3/62.3 kB\u001b[0m \u001b[31m5.9 MB/s\u001b[0m eta \u001b[36m0:00:00\u001b[0m\r\n",
      "\u001b[?25hCollecting passlib==1.7.4\r\n",
      "  Downloading passlib-1.7.4-py2.py3-none-any.whl (525 kB)\r\n",
      "\u001b[2K     \u001b[90m━━━━━━━━━━━━━━━━━━━━━━━━━━━━━━━━━━━━━━\u001b[0m \u001b[32m525.6/525.6 kB\u001b[0m \u001b[31m29.9 MB/s\u001b[0m eta \u001b[36m0:00:00\u001b[0m\r\n",
      "\u001b[?25hRequirement already satisfied: pytz>=2017.2 in /opt/conda/lib/python3.7/site-packages (from pandas==1.1.5->headjackai-sdk) (2022.7.1)\r\n",
      "Requirement already satisfied: python-dateutil>=2.7.3 in /opt/conda/lib/python3.7/site-packages (from pandas==1.1.5->headjackai-sdk) (2.8.2)\r\n",
      "Requirement already satisfied: numpy>=1.15.4 in /opt/conda/lib/python3.7/site-packages (from pandas==1.1.5->headjackai-sdk) (1.21.6)\r\n",
      "Requirement already satisfied: certifi>=2017.4.17 in /opt/conda/lib/python3.7/site-packages (from requests==2.26.0->headjackai-sdk) (2022.12.7)\r\n",
      "Requirement already satisfied: idna<4,>=2.5 in /opt/conda/lib/python3.7/site-packages (from requests==2.26.0->headjackai-sdk) (3.4)\r\n",
      "Requirement already satisfied: urllib3<1.27,>=1.21.1 in /opt/conda/lib/python3.7/site-packages (from requests==2.26.0->headjackai-sdk) (1.26.14)\r\n",
      "Collecting charset-normalizer~=2.0.0\r\n",
      "  Downloading charset_normalizer-2.0.12-py3-none-any.whl (39 kB)\r\n",
      "Requirement already satisfied: threadpoolctl>=2.0.0 in /opt/conda/lib/python3.7/site-packages (from scikit-learn==0.24.2->headjackai-sdk) (3.1.0)\r\n",
      "Requirement already satisfied: joblib>=0.11 in /opt/conda/lib/python3.7/site-packages (from scikit-learn==0.24.2->headjackai-sdk) (1.2.0)\r\n",
      "Requirement already satisfied: scipy>=0.19.1 in /opt/conda/lib/python3.7/site-packages (from scikit-learn==0.24.2->headjackai-sdk) (1.7.3)\r\n",
      "Requirement already satisfied: six>=1.5 in /opt/conda/lib/python3.7/site-packages (from python-dateutil>=2.7.3->pandas==1.1.5->headjackai-sdk) (1.16.0)\r\n",
      "Installing collected packages: passlib, charset-normalizer, scikit-learn, requests, pandas, headjackai-sdk\r\n",
      "  Attempting uninstall: charset-normalizer\r\n",
      "    Found existing installation: charset-normalizer 2.1.1\r\n",
      "    Uninstalling charset-normalizer-2.1.1:\r\n",
      "      Successfully uninstalled charset-normalizer-2.1.1\r\n",
      "  Attempting uninstall: scikit-learn\r\n",
      "    Found existing installation: scikit-learn 1.0.2\r\n",
      "    Uninstalling scikit-learn-1.0.2:\r\n",
      "      Successfully uninstalled scikit-learn-1.0.2\r\n",
      "  Attempting uninstall: requests\r\n",
      "    Found existing installation: requests 2.28.2\r\n",
      "    Uninstalling requests-2.28.2:\r\n",
      "      Successfully uninstalled requests-2.28.2\r\n",
      "  Attempting uninstall: pandas\r\n",
      "    Found existing installation: pandas 1.3.5\r\n",
      "    Uninstalling pandas-1.3.5:\r\n",
      "      Successfully uninstalled pandas-1.3.5\r\n",
      "\u001b[31mERROR: pip's dependency resolver does not currently take into account all the packages that are installed. This behaviour is the source of the following dependency conflicts.\r\n",
      "yellowbrick 1.5 requires scikit-learn>=1.0.0, but you have scikit-learn 0.24.2 which is incompatible.\r\n",
      "woodwork 0.16.4 requires pandas<1.4.2,>=1.3.0, but you have pandas 1.1.5 which is incompatible.\r\n",
      "tfx-bsl 1.12.0 requires google-api-python-client<2,>=1.7.11, but you have google-api-python-client 2.79.0 which is incompatible.\r\n",
      "nilearn 0.10.0 requires scikit-learn>=1.0.0, but you have scikit-learn 0.24.2 which is incompatible.\r\n",
      "mlxtend 0.21.0 requires scikit-learn>=1.0.2, but you have scikit-learn 0.24.2 which is incompatible.\r\n",
      "librosa 0.10.0 requires soundfile>=0.12.1, but you have soundfile 0.11.0 which is incompatible.\r\n",
      "imbalanced-learn 0.10.1 requires scikit-learn>=1.0.2, but you have scikit-learn 0.24.2 which is incompatible.\r\n",
      "ibis-framework 2.1.1 requires pandas<2,>=1.2.5, but you have pandas 1.1.5 which is incompatible.\r\n",
      "gplearn 0.4.2 requires scikit-learn>=1.0.2, but you have scikit-learn 0.24.2 which is incompatible.\r\n",
      "featuretools 1.11.1 requires pandas>=1.3.0, but you have pandas 1.1.5 which is incompatible.\r\n",
      "apache-beam 2.44.0 requires dill<0.3.2,>=0.3.1.1, but you have dill 0.3.6 which is incompatible.\u001b[0m\u001b[31m\r\n",
      "\u001b[0mSuccessfully installed charset-normalizer-2.0.12 headjackai-sdk-0.2.20 pandas-1.1.5 passlib-1.7.4 requests-2.26.0 scikit-learn-0.24.2\r\n",
      "\u001b[33mWARNING: Running pip as the 'root' user can result in broken permissions and conflicting behaviour with the system package manager. It is recommended to use a virtual environment instead: https://pip.pypa.io/warnings/venv\u001b[0m\u001b[33m\r\n",
      "\u001b[0m"
     ]
    }
   ],
   "source": [
    "!pip install headjackai-sdk"
   ]
  },
  {
   "cell_type": "code",
   "execution_count": 26,
   "id": "95dff31e",
   "metadata": {
    "execution": {
     "iopub.execute_input": "2023-03-15T07:48:09.564024Z",
     "iopub.status.busy": "2023-03-15T07:48:09.562896Z",
     "iopub.status.idle": "2023-03-15T07:48:10.440077Z",
     "shell.execute_reply": "2023-03-15T07:48:10.438593Z"
    },
    "papermill": {
     "duration": 0.896966,
     "end_time": "2023-03-15T07:48:10.442929",
     "exception": false,
     "start_time": "2023-03-15T07:48:09.545963",
     "status": "completed"
    },
    "tags": []
   },
   "outputs": [
    {
     "data": {
      "text/plain": [
       "'Login Successful!'"
      ]
     },
     "execution_count": 26,
     "metadata": {},
     "output_type": "execute_result"
    }
   ],
   "source": [
    "from headjackai.headjackai_hub import headjackai_hub\n",
    "\n",
    "#host setting\n",
    "hj_hub = headjackai_hub(\"http://www.headjackai.com:9000\")\n",
    "hj_hub.login(username = \"jimliu_kaggle\", pwd = \"12345678\")"
   ]
  },
  {
   "cell_type": "code",
   "execution_count": 27,
   "id": "c81213af",
   "metadata": {
    "execution": {
     "iopub.execute_input": "2023-03-15T07:48:10.475196Z",
     "iopub.status.busy": "2023-03-15T07:48:10.474290Z",
     "iopub.status.idle": "2023-03-15T07:48:11.213100Z",
     "shell.execute_reply": "2023-03-15T07:48:11.211549Z"
    },
    "papermill": {
     "duration": 0.758491,
     "end_time": "2023-03-15T07:48:11.216309",
     "exception": false,
     "start_time": "2023-03-15T07:48:10.457818",
     "status": "completed"
    },
    "tags": []
   },
   "outputs": [
    {
     "data": {
      "text/plain": [
       "['kaggle_brijbhushannanda1979_bigmart_sales_data',\n",
       " 'kaggle_blastchar_telco_customer_churn',\n",
       " 'kaggle_lava18_google_play_store_apps',\n",
       " 'kaggle_madislemsalu_facebook_ad_campaign',\n",
       " 'kaggle_datasets_mhdzahier_travel_insurance',\n",
       " 'kaggle_zhijinzhai_loandata',\n",
       " 'kaggle_janiobachmann_bank_marketing_dataset',\n",
       " 'kaggle_santoshd3_bank_customers',\n",
       " 'kaggle_mahirahmzh_starbucks_customer_retention_malaysia_survey',\n",
       " 'kaggle_ihormuliar_starbucks_customer_data',\n",
       " 'kaggle_luiscorter_netflix_original_films_imdb_scores',\n",
       " 'kaggle_shivamb_hm_stores_dataset',\n",
       " 'kaggle_vivovinco_nba_player_stats',\n",
       " 'kaggle_the_winton_stock_market_challenge_one',\n",
       " 'kaggle_muthuj7_weather_dataset',\n",
       " 'kaggle_rinichristy_2022_fuel_consumption_ratings',\n",
       " 'kaggle_gsutters_economic_freedom',\n",
       " 'kaggle_chrischien17_taiwan_taipei_city_real_estate_transaction_records',\n",
       " 'kaggle_nenamalikah_nft_collections_by_sales_volume',\n",
       " 'symphox_vouch_offline_interest',\n",
       " 'symphox_offline_time',\n",
       " 'symphox_online_time',\n",
       " 'symphox_online_interest',\n",
       " 'smartphone_category',\n",
       " 'brain_stroke_dataset',\n",
       " 'Indicators-Heart-Disease',\n",
       " 'Net-Hourly-Electrical-Energy-Output',\n",
       " 'Airline Passenger Satisfaction',\n",
       " 'drug_type',\n",
       " 'pharyngitis_in_children',\n",
       " 'Digital-Sky',\n",
       " 'customer-info',\n",
       " 'LawSchoolAdmissions-info',\n",
       " 'smoke-info',\n",
       " 'pulstar-info',\n",
       " 'SteelIndustry',\n",
       " 'McDonalds',\n",
       " 'BorderCrossingEntry',\n",
       " 'RoadDataset',\n",
       " 'EmployeeChurn',\n",
       " 'TinderMatchRate',\n",
       " 'CustomerChurn',\n",
       " 'EmployEarnings-1',\n",
       " 'credit-card-churner',\n",
       " 'billstatement-creditcard',\n",
       " 'symphox_online_time_nbi',\n",
       " 'Collections',\n",
       " 'Collections-2',\n",
       " 'Egypt_house_price',\n",
       " 'student-performance-math',\n",
       " 'student-performance-portuguese',\n",
       " 'melbourne-housing',\n",
       " 'housing-rent',\n",
       " 'California-house-price',\n",
       " 'titanic',\n",
       " 'tehran-housing-rent',\n",
       " 'bank-churner',\n",
       " 'credit-risk',\n",
       " 'Lyon-housing',\n",
       " 'WNBA-team-stats',\n",
       " 'kingcounty-washington-house',\n",
       " 'ames-house',\n",
       " 'Hepatitis-C',\n",
       " 'delhi-house',\n",
       " 'bangalore-house',\n",
       " 'pune-house',\n",
       " 'bank-marketing-1',\n",
       " 'bank-marketing-2',\n",
       " 'company-bankruptcy',\n",
       " 'bank-turnover-dataset',\n",
       " 'bank-personal-loan',\n",
       " 'zillow-house-residence',\n",
       " 'bank-marketing-3',\n",
       " 'bank-russia',\n",
       " 'bank-americas',\n",
       " 'bank-german-credit-risk',\n",
       " 'bank-ANZ',\n",
       " 'dry-beans',\n",
       " 'glass_identification',\n",
       " 'abalone-datasets',\n",
       " 'Walmart-sales-datasets',\n",
       " 'mall-customer-datasets',\n",
       " 'cost-of-acquiring-customers',\n",
       " 'E-Signing-o- Loan-Based',\n",
       " 'Tabular-Playground-Series-Sep2022',\n",
       " 'Tabular-Playground-Series-Sep2022-ensemble',\n",
       " 'Spaceship-Titanic',\n",
       " 'Spaceship-Titanic2',\n",
       " 'Spaceship-Titanic1',\n",
       " 'weatherAUS',\n",
       " 'Monkey-Pox-Patients',\n",
       " 'blood-transfusion',\n",
       " 'KPMG-customer-demography',\n",
       " 'TPS_OCT_2022_1',\n",
       " 'store_sales',\n",
       " 'exam',\n",
       " 'KPMG_Customer_Demography',\n",
       " 'boston_comparsion',\n",
       " 'YWX_iris',\n",
       " 'example_bigmart',\n",
       " 'oil-spill',\n",
       " 'Hunger-Games',\n",
       " 'BlackFridaySale',\n",
       " 'example_iris',\n",
       " 'TeleChurn',\n",
       " 'example_creditcard',\n",
       " 'YWX_iriss',\n",
       " 'hejing',\n",
       " 'target']"
      ]
     },
     "execution_count": 27,
     "metadata": {},
     "output_type": "execute_result"
    }
   ],
   "source": [
    "hj_hub.knowledgepool_check(public_pool = True)"
   ]
  },
  {
   "cell_type": "code",
   "execution_count": 28,
   "id": "9f1a3fb3",
   "metadata": {
    "execution": {
     "iopub.execute_input": "2023-03-15T07:48:11.251899Z",
     "iopub.status.busy": "2023-03-15T07:48:11.251409Z",
     "iopub.status.idle": "2023-03-15T07:48:18.559021Z",
     "shell.execute_reply": "2023-03-15T07:48:18.557512Z"
    },
    "papermill": {
     "duration": 7.329547,
     "end_time": "2023-03-15T07:48:18.562464",
     "exception": false,
     "start_time": "2023-03-15T07:48:11.232917",
     "status": "completed"
    },
    "tags": []
   },
   "outputs": [],
   "source": [
    "#in this case, we select drug_type as our features engineering function and the features from misaelcribeiro picked. \n",
    "source = 'drug_type'\n",
    "\n",
    "\n",
    "best_features = [\n",
    " 'Spaceship-Titanic-CryoSleep',\n",
    " 'Spaceship-Titanic-RoomService',\n",
    " 'Spaceship-Titanic-Spa',\n",
    " 'Spaceship-Titanic-VRDeck',\n",
    " 'Spaceship-Titanic-deck',\n",
    " 'Spaceship-Titanic-side',\n",
    " 'Spaceship-Titanic-SumSpends',\n",
    " 'drug_type-Sex']\n",
    "\n",
    "\n",
    "#run features engineering on hj \n",
    "hj_X = hj_hub.knowledge_transform(data=X, target_domain='Spaceship-Titanic', \n",
    "                                  source_domain=source,\n",
    "                                  label='')\n",
    "\n",
    "hj_ts_X = hj_hub.knowledge_transform(data=test, target_domain='Spaceship-Titanic', \n",
    "                                  source_domain=source,\n",
    "                                  label='') "
   ]
  },
  {
   "cell_type": "code",
   "execution_count": 29,
   "id": "af7abfa5",
   "metadata": {
    "execution": {
     "iopub.execute_input": "2023-03-15T07:48:18.595924Z",
     "iopub.status.busy": "2023-03-15T07:48:18.595245Z",
     "iopub.status.idle": "2023-03-15T07:48:18.604115Z",
     "shell.execute_reply": "2023-03-15T07:48:18.601787Z"
    },
    "papermill": {
     "duration": 0.029419,
     "end_time": "2023-03-15T07:48:18.607715",
     "exception": false,
     "start_time": "2023-03-15T07:48:18.578296",
     "status": "completed"
    },
    "tags": []
   },
   "outputs": [
    {
     "name": "stdout",
     "output_type": "stream",
     "text": [
      "(8693, 16)\n"
     ]
    }
   ],
   "source": [
    "print(X.shape)"
   ]
  },
  {
   "cell_type": "code",
   "execution_count": 30,
   "id": "11149ebf",
   "metadata": {
    "execution": {
     "iopub.execute_input": "2023-03-15T07:48:18.644281Z",
     "iopub.status.busy": "2023-03-15T07:48:18.642902Z",
     "iopub.status.idle": "2023-03-15T07:48:18.651491Z",
     "shell.execute_reply": "2023-03-15T07:48:18.649128Z"
    },
    "papermill": {
     "duration": 0.031428,
     "end_time": "2023-03-15T07:48:18.654896",
     "exception": false,
     "start_time": "2023-03-15T07:48:18.623468",
     "status": "completed"
    },
    "tags": []
   },
   "outputs": [
    {
     "name": "stdout",
     "output_type": "stream",
     "text": [
      "(8693, 22)\n"
     ]
    }
   ],
   "source": [
    "print(hj_X.shape)"
   ]
  },
  {
   "cell_type": "code",
   "execution_count": 31,
   "id": "0bd48013",
   "metadata": {
    "execution": {
     "iopub.execute_input": "2023-03-15T07:48:18.688469Z",
     "iopub.status.busy": "2023-03-15T07:48:18.687984Z",
     "iopub.status.idle": "2023-03-15T07:48:23.581917Z",
     "shell.execute_reply": "2023-03-15T07:48:23.580883Z"
    },
    "papermill": {
     "duration": 4.914215,
     "end_time": "2023-03-15T07:48:23.584742",
     "exception": false,
     "start_time": "2023-03-15T07:48:18.670527",
     "status": "completed"
    },
    "tags": []
   },
   "outputs": [],
   "source": [
    "\n",
    "model = CatBoostClassifier(verbose=False, eval_metric='Accuracy',random_seed=2222)\n",
    "\n",
    "model.fit(hj_X[best_features], y)\n",
    "prediction = model.predict(hj_ts_X[best_features])"
   ]
  },
  {
   "cell_type": "code",
   "execution_count": 32,
   "id": "fca1134a",
   "metadata": {
    "execution": {
     "iopub.execute_input": "2023-03-15T07:48:23.618349Z",
     "iopub.status.busy": "2023-03-15T07:48:23.617924Z",
     "iopub.status.idle": "2023-03-15T07:48:23.626738Z",
     "shell.execute_reply": "2023-03-15T07:48:23.625419Z"
    },
    "papermill": {
     "duration": 0.028831,
     "end_time": "2023-03-15T07:48:23.629725",
     "exception": false,
     "start_time": "2023-03-15T07:48:23.600894",
     "status": "completed"
    },
    "tags": []
   },
   "outputs": [],
   "source": [
    "#Prediction\n",
    "final = pd.DataFrame()\n",
    "final.index = test.index\n",
    "final['Transported'] = prediction\n",
    "final['Transported'].replace(0, False, inplace=True)\n",
    "final['Transported'].replace(1, True, inplace=True)"
   ]
  },
  {
   "cell_type": "code",
   "execution_count": 33,
   "id": "e7f62a9d",
   "metadata": {
    "execution": {
     "iopub.execute_input": "2023-03-15T07:48:23.663521Z",
     "iopub.status.busy": "2023-03-15T07:48:23.662211Z",
     "iopub.status.idle": "2023-03-15T07:48:23.668281Z",
     "shell.execute_reply": "2023-03-15T07:48:23.667125Z"
    },
    "papermill": {
     "duration": 0.025547,
     "end_time": "2023-03-15T07:48:23.671165",
     "exception": false,
     "start_time": "2023-03-15T07:48:23.645618",
     "status": "completed"
    },
    "tags": []
   },
   "outputs": [],
   "source": [
    "#final.to_csv('submission.csv')"
   ]
  },
  {
   "cell_type": "code",
   "execution_count": null,
   "id": "fc7b48a7",
   "metadata": {
    "papermill": {
     "duration": 0.01541,
     "end_time": "2023-03-15T07:48:23.702023",
     "exception": false,
     "start_time": "2023-03-15T07:48:23.686613",
     "status": "completed"
    },
    "tags": []
   },
   "outputs": [],
   "source": []
  }
 ],
 "metadata": {
  "kernelspec": {
   "display_name": "Python 3",
   "language": "python",
   "name": "python3"
  },
  "language_info": {
   "codemirror_mode": {
    "name": "ipython",
    "version": 3
   },
   "file_extension": ".py",
   "mimetype": "text/x-python",
   "name": "python",
   "nbconvert_exporter": "python",
   "pygments_lexer": "ipython3",
   "version": "3.7.12"
  },
  "papermill": {
   "default_parameters": {},
   "duration": 72.264725,
   "end_time": "2023-03-15T07:48:24.841008",
   "environment_variables": {},
   "exception": null,
   "input_path": "__notebook__.ipynb",
   "output_path": "__notebook__.ipynb",
   "parameters": {},
   "start_time": "2023-03-15T07:47:12.576283",
   "version": "2.4.0"
  }
 },
 "nbformat": 4,
 "nbformat_minor": 5
}
